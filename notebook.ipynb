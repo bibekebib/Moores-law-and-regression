{
  "cells": [
    {
      "cell_type": "code",
      "metadata": {
        "tags": [],
        "cell_id": "00000-7867c09d-91b1-4ce7-a845-5c2de14d2084",
        "deepnote_to_be_reexecuted": false,
        "source_hash": "94596249",
        "execution_millis": 341,
        "execution_start": 1617587548563,
        "deepnote_cell_type": "code"
      },
      "source": "import pandas as pd\nimport numpy as np\nimport matplotlib.pyplot as plt\nfrom matplotlib import style\nstyle.use('ggplot')\nimport re\nimport math\nimport string\n%matplotlib inline",
      "execution_count": 1,
      "outputs": []
    },
    {
      "cell_type": "code",
      "metadata": {
        "tags": [],
        "cell_id": "00001-dafb4b1c-080b-467c-9e7d-ef54639ee8a7",
        "deepnote_to_be_reexecuted": false,
        "source_hash": "925c02c6",
        "execution_millis": 5,
        "execution_start": 1617587548908,
        "deepnote_cell_type": "code"
      },
      "source": "df = pd.read_csv('Moore.csv', engine='python',error_bad_lines=False, header=None, sep='\\t')\n",
      "execution_count": 2,
      "outputs": []
    },
    {
      "cell_type": "code",
      "metadata": {
        "tags": [],
        "cell_id": "00002-50da7db5-ba4c-4e1f-aa72-98ef2105c9f2",
        "deepnote_to_be_reexecuted": false,
        "source_hash": "a622c704",
        "execution_millis": 31,
        "execution_start": 1617587548924,
        "deepnote_cell_type": "code"
      },
      "source": "columns = ['Chip Name', 'Number', 'Year', 'Company', 'size per chip', 'total size']\ndf.columns = columns\ndf",
      "execution_count": 3,
      "outputs": [
        {
          "output_type": "execute_result",
          "execution_count": 3,
          "data": {
            "application/vnd.deepnote.dataframe.v2+json": {
              "row_count": 102,
              "column_count": 6,
              "columns": [
                {
                  "name": "Chip Name",
                  "dtype": "object",
                  "stats": {
                    "unique_count": 102,
                    "nan_count": 0,
                    "categories": [
                      {
                        "name": "Intel 4004",
                        "count": 1
                      },
                      {
                        "name": "Intel 8008",
                        "count": 1
                      },
                      {
                        "name": "100 others",
                        "count": 100
                      }
                    ]
                  }
                },
                {
                  "name": "Number",
                  "dtype": "object",
                  "stats": {
                    "unique_count": 98,
                    "nan_count": 0,
                    "categories": [
                      {
                        "name": "29,000",
                        "count": 2
                      },
                      {
                        "name": "7,500,000",
                        "count": 2
                      },
                      {
                        "name": "96 others",
                        "count": 98
                      }
                    ]
                  }
                },
                {
                  "name": "Year",
                  "dtype": "object",
                  "stats": {
                    "unique_count": 43,
                    "nan_count": 0,
                    "categories": [
                      {
                        "name": "2012",
                        "count": 7
                      },
                      {
                        "name": "2010",
                        "count": 6
                      },
                      {
                        "name": "41 others",
                        "count": 89
                      }
                    ]
                  }
                },
                {
                  "name": "Company",
                  "dtype": "object",
                  "stats": {
                    "unique_count": 20,
                    "nan_count": 0,
                    "categories": [
                      {
                        "name": "Intel",
                        "count": 54
                      },
                      {
                        "name": "AMD",
                        "count": 11
                      },
                      {
                        "name": "18 others",
                        "count": 37
                      }
                    ]
                  }
                },
                {
                  "name": "size per chip",
                  "dtype": "object",
                  "stats": {
                    "unique_count": 28,
                    "nan_count": 5,
                    "categories": [
                      {
                        "name": "45 nm",
                        "count": 11
                      },
                      {
                        "name": "27 others",
                        "count": 86
                      },
                      {
                        "name": "Missing",
                        "count": 5
                      }
                    ]
                  }
                },
                {
                  "name": "total size",
                  "dtype": "object",
                  "stats": {
                    "unique_count": 85,
                    "nan_count": 7,
                    "categories": [
                      {
                        "name": "20 mm²",
                        "count": 2
                      },
                      {
                        "name": "84 others",
                        "count": 93
                      },
                      {
                        "name": "Missing",
                        "count": 7
                      }
                    ]
                  }
                },
                {
                  "name": "_deepnote_index_column",
                  "dtype": "int64"
                }
              ],
              "rows_top": [
                {
                  "Chip Name": "Intel 4004",
                  "Number": "2,300",
                  "Year": "1971",
                  "Company": "Intel",
                  "size per chip": "10,000 nm",
                  "total size": "12 mm²",
                  "_deepnote_index_column": 0
                },
                {
                  "Chip Name": "Intel 8008",
                  "Number": "3,500",
                  "Year": "1972",
                  "Company": "Intel",
                  "size per chip": "10,000 nm",
                  "total size": "14 mm²",
                  "_deepnote_index_column": 1
                },
                {
                  "Chip Name": "Intel 8080",
                  "Number": "4,500",
                  "Year": "1974",
                  "Company": "Intel",
                  "size per chip": "6,000 nm",
                  "total size": "20 mm²",
                  "_deepnote_index_column": 2
                },
                {
                  "Chip Name": "Motorola 6800",
                  "Number": "4,100",
                  "Year": "1974",
                  "Company": "Motorola",
                  "size per chip": "6,000 nm",
                  "total size": "16 mm²",
                  "_deepnote_index_column": 3
                },
                {
                  "Chip Name": "RCA 1802",
                  "Number": "5,000",
                  "Year": "1974",
                  "Company": "RCA",
                  "size per chip": "5,000 nm",
                  "total size": "27 mm²",
                  "_deepnote_index_column": 4
                },
                {
                  "Chip Name": "TMS 1000",
                  "Number": "8,000",
                  "Year": "1974[7]",
                  "Company": "Texas Instruments",
                  "size per chip": "8,000 nm",
                  "total size": "nan",
                  "_deepnote_index_column": 5
                },
                {
                  "Chip Name": "MOS Technology 6502",
                  "Number": "3,510[8]",
                  "Year": "1975",
                  "Company": "MOS Technology",
                  "size per chip": "8,000 nm",
                  "total size": "21 mm²",
                  "_deepnote_index_column": 6
                },
                {
                  "Chip Name": "Intel 8085",
                  "Number": "6,500",
                  "Year": "1976",
                  "Company": "Intel",
                  "size per chip": "3,000 nm",
                  "total size": "20 mm²",
                  "_deepnote_index_column": 7
                },
                {
                  "Chip Name": "Zilog Z80",
                  "Number": "8,500",
                  "Year": "1976",
                  "Company": "Zilog",
                  "size per chip": "4,000 nm",
                  "total size": "18 mm²",
                  "_deepnote_index_column": 8
                },
                {
                  "Chip Name": "Intel 8086",
                  "Number": "29,000",
                  "Year": "1978",
                  "Company": "Intel",
                  "size per chip": "3,000 nm",
                  "total size": "33 mm²",
                  "_deepnote_index_column": 9
                },
                {
                  "Chip Name": "Motorola 6809",
                  "Number": "9,000",
                  "Year": "1978",
                  "Company": "Motorola",
                  "size per chip": "5,000 nm",
                  "total size": "21 mm²",
                  "_deepnote_index_column": 10
                },
                {
                  "Chip Name": "Intel 8088",
                  "Number": "29,000",
                  "Year": "1979",
                  "Company": "Intel",
                  "size per chip": "3,000 nm",
                  "total size": "33 mm²",
                  "_deepnote_index_column": 11
                },
                {
                  "Chip Name": "Motorola 68000",
                  "Number": "68,000",
                  "Year": "1979",
                  "Company": "Motorola",
                  "size per chip": "3,500 nm",
                  "total size": "44 mm²",
                  "_deepnote_index_column": 12
                },
                {
                  "Chip Name": "WDC 65C02",
                  "Number": "11,500[9]",
                  "Year": "1981",
                  "Company": "WDC",
                  "size per chip": "3,000 nm",
                  "total size": "6 mm²",
                  "_deepnote_index_column": 13
                },
                {
                  "Chip Name": "Intel 80186",
                  "Number": "55,000",
                  "Year": "1982",
                  "Company": "Intel",
                  "size per chip": "3,000 nm",
                  "total size": "60 mm²",
                  "_deepnote_index_column": 14
                },
                {
                  "Chip Name": "Intel 80286",
                  "Number": "134,000",
                  "Year": "1982",
                  "Company": "Intel",
                  "size per chip": "1,500 nm",
                  "total size": "49 mm²",
                  "_deepnote_index_column": 15
                },
                {
                  "Chip Name": "WDC 65C816",
                  "Number": "22,000[10]",
                  "Year": "1983",
                  "Company": "WDC",
                  "size per chip": "nan",
                  "total size": "9 mm²",
                  "_deepnote_index_column": 16
                },
                {
                  "Chip Name": "Motorola 68020",
                  "Number": "190,000[11]",
                  "Year": "1984",
                  "Company": "Motorola",
                  "size per chip": "2,000 nm",
                  "total size": "85 mm²",
                  "_deepnote_index_column": 17
                },
                {
                  "Chip Name": "ARM 1",
                  "Number": "25,000[11]",
                  "Year": "1985",
                  "Company": "Acorn",
                  "size per chip": "3,000 nm",
                  "total size": "50 mm²",
                  "_deepnote_index_column": 18
                },
                {
                  "Chip Name": "Intel 80386",
                  "Number": "275,000",
                  "Year": "1985",
                  "Company": "Intel",
                  "size per chip": "1,500 nm",
                  "total size": "104 mm²",
                  "_deepnote_index_column": 19
                },
                {
                  "Chip Name": "Novix NC4016",
                  "Number": "16,000[12]",
                  "Year": "1985[13]",
                  "Company": "Harris Corporation",
                  "size per chip": "3,000 nm[14]",
                  "total size": "nan",
                  "_deepnote_index_column": 20
                },
                {
                  "Chip Name": "ARM 2",
                  "Number": "30,000[11]",
                  "Year": "1986",
                  "Company": "Acorn",
                  "size per chip": "2,000 nm",
                  "total size": "30 mm²",
                  "_deepnote_index_column": 21
                },
                {
                  "Chip Name": "TI Explorer's 32-bit Lisp machine chip",
                  "Number": "553,000[15]",
                  "Year": "1987",
                  "Company": "Texas Instruments",
                  "size per chip": "nan",
                  "total size": "nan",
                  "_deepnote_index_column": 22
                },
                {
                  "Chip Name": "DEC WRL MultiTitan",
                  "Number": "180,000[16]",
                  "Year": "1988",
                  "Company": "DEC WRL",
                  "size per chip": "1,500 nm",
                  "total size": "61 mm²",
                  "_deepnote_index_column": 23
                },
                {
                  "Chip Name": "Intel i960",
                  "Number": "250,000[17]",
                  "Year": "1988",
                  "Company": "Intel",
                  "size per chip": "600 nm",
                  "total size": "nan",
                  "_deepnote_index_column": 24
                },
                {
                  "Chip Name": "ARM 3",
                  "Number": "300,000",
                  "Year": "1989",
                  "Company": "Acorn",
                  "size per chip": "nan",
                  "total size": "nan",
                  "_deepnote_index_column": 25
                },
                {
                  "Chip Name": "Intel 80486",
                  "Number": "1,180,235",
                  "Year": "1989",
                  "Company": "Intel",
                  "size per chip": "1000 nm",
                  "total size": "173 mm²",
                  "_deepnote_index_column": 26
                },
                {
                  "Chip Name": "ARM 6",
                  "Number": "35,000",
                  "Year": "1991",
                  "Company": "ARM",
                  "size per chip": "nan",
                  "total size": "nan",
                  "_deepnote_index_column": 27
                },
                {
                  "Chip Name": "R4000",
                  "Number": "1,350,000",
                  "Year": "1991",
                  "Company": "MIPS",
                  "size per chip": "1,000 nm",
                  "total size": "213 mm²",
                  "_deepnote_index_column": 28
                },
                {
                  "Chip Name": "Pentium",
                  "Number": "3,100,000",
                  "Year": "1993",
                  "Company": "Intel",
                  "size per chip": "800 nm",
                  "total size": "294 mm²",
                  "_deepnote_index_column": 29
                },
                {
                  "Chip Name": "ARM700",
                  "Number": "578,977[18]",
                  "Year": "1994",
                  "Company": "ARM",
                  "size per chip": "nan",
                  "total size": "68.51 mm²",
                  "_deepnote_index_column": 30
                },
                {
                  "Chip Name": "Pentium Pro",
                  "Number": "5,500,000[19]",
                  "Year": "1995",
                  "Company": "Intel",
                  "size per chip": "500 nm",
                  "total size": "307 mm²",
                  "_deepnote_index_column": 31
                },
                {
                  "Chip Name": "SA-110",
                  "Number": "2,500,000[11]",
                  "Year": "1995",
                  "Company": "Acorn/DEC/Apple",
                  "size per chip": "350 nm",
                  "total size": "50 mm²",
                  "_deepnote_index_column": 32
                },
                {
                  "Chip Name": "AMD K5",
                  "Number": "4,300,000",
                  "Year": "1996",
                  "Company": "AMD",
                  "size per chip": "500 nm",
                  "total size": "251 mm²",
                  "_deepnote_index_column": 33
                },
                {
                  "Chip Name": "AMD K6",
                  "Number": "8,800,000",
                  "Year": "1997",
                  "Company": "AMD",
                  "size per chip": "350 nm",
                  "total size": "162 mm²",
                  "_deepnote_index_column": 34
                },
                {
                  "Chip Name": "Pentium II Klamath",
                  "Number": "7,500,000",
                  "Year": "1997",
                  "Company": "Intel",
                  "size per chip": "350 nm",
                  "total size": "195 mm²",
                  "_deepnote_index_column": 35
                },
                {
                  "Chip Name": "Pentium II Deschutes",
                  "Number": "7,500,000",
                  "Year": "1998",
                  "Company": "Intel",
                  "size per chip": "250 nm",
                  "total size": "113 mm²",
                  "_deepnote_index_column": 36
                },
                {
                  "Chip Name": "AMD K6-III",
                  "Number": "21,300,000",
                  "Year": "1999",
                  "Company": "AMD",
                  "size per chip": "250 nm",
                  "total size": "118 mm²",
                  "_deepnote_index_column": 37
                },
                {
                  "Chip Name": "AMD K7",
                  "Number": "22,000,000",
                  "Year": "1999",
                  "Company": "AMD",
                  "size per chip": "250 nm",
                  "total size": "184 mm²",
                  "_deepnote_index_column": 38
                },
                {
                  "Chip Name": "ARM 9TDMI",
                  "Number": "111,000[11]",
                  "Year": "1999",
                  "Company": "Acorn",
                  "size per chip": "350 nm",
                  "total size": "4.8 mm²",
                  "_deepnote_index_column": 39
                },
                {
                  "Chip Name": "Pentium II Mobile Dixon",
                  "Number": "27,400,000",
                  "Year": "1999",
                  "Company": "Intel",
                  "size per chip": "180 nm",
                  "total size": "180 mm²",
                  "_deepnote_index_column": 40
                },
                {
                  "Chip Name": "Pentium III Katmai",
                  "Number": "9,500,000",
                  "Year": "1999",
                  "Company": "Intel",
                  "size per chip": "250 nm",
                  "total size": "128 mm²",
                  "_deepnote_index_column": 41
                },
                {
                  "Chip Name": "Pentium 4 Willamette",
                  "Number": "42,000,000",
                  "Year": "2000",
                  "Company": "Intel",
                  "size per chip": "180 nm",
                  "total size": "217 mm²",
                  "_deepnote_index_column": 42
                },
                {
                  "Chip Name": "Pentium III Coppermine",
                  "Number": "21,000,000",
                  "Year": "2000",
                  "Company": "Intel",
                  "size per chip": "180 nm",
                  "total size": "80 mm²",
                  "_deepnote_index_column": 43
                },
                {
                  "Chip Name": "Pentium III Tualatin",
                  "Number": "45,000,000",
                  "Year": "2001",
                  "Company": "Intel",
                  "size per chip": "130 nm",
                  "total size": "81 mm²",
                  "_deepnote_index_column": 44
                },
                {
                  "Chip Name": "Itanium 2 McKinley",
                  "Number": "220,000,000",
                  "Year": "2002",
                  "Company": "Intel",
                  "size per chip": "180 nm",
                  "total size": "421 mm²",
                  "_deepnote_index_column": 45
                },
                {
                  "Chip Name": "Pentium 4 Northwood",
                  "Number": "55,000,000",
                  "Year": "2002",
                  "Company": "Intel",
                  "size per chip": "130 nm",
                  "total size": "145 mm²",
                  "_deepnote_index_column": 46
                },
                {
                  "Chip Name": "AMD K8",
                  "Number": "105,900,000",
                  "Year": "2003",
                  "Company": "AMD",
                  "size per chip": "130 nm",
                  "total size": "193 mm²",
                  "_deepnote_index_column": 47
                },
                {
                  "Chip Name": "Barton",
                  "Number": "54,300,000",
                  "Year": "2003",
                  "Company": "AMD",
                  "size per chip": "130 nm",
                  "total size": "101 mm²",
                  "_deepnote_index_column": 48
                },
                {
                  "Chip Name": "Itanium 2 Madison 6M",
                  "Number": "410,000,000",
                  "Year": "2003",
                  "Company": "Intel",
                  "size per chip": "130 nm",
                  "total size": "374 mm²",
                  "_deepnote_index_column": 49
                },
                {
                  "Chip Name": "Itanium 2 with 9 MB cache",
                  "Number": "592,000,000",
                  "Year": "2004",
                  "Company": "Intel",
                  "size per chip": "130 nm",
                  "total size": "432 mm²",
                  "_deepnote_index_column": 50
                },
                {
                  "Chip Name": "Pentium 4 Prescott",
                  "Number": "112,000,000",
                  "Year": "2004",
                  "Company": "Intel",
                  "size per chip": "90 nm",
                  "total size": "110 mm²",
                  "_deepnote_index_column": 51
                },
                {
                  "Chip Name": "Pentium 4 Prescott-2M",
                  "Number": "169,000,000",
                  "Year": "2005",
                  "Company": "Intel",
                  "size per chip": "90 nm",
                  "total size": "143 mm²",
                  "_deepnote_index_column": 52
                },
                {
                  "Chip Name": "Pentium D Smithfield",
                  "Number": "228,000,000",
                  "Year": "2005",
                  "Company": "Intel",
                  "size per chip": "90 nm",
                  "total size": "206 mm²",
                  "_deepnote_index_column": 53
                },
                {
                  "Chip Name": "Cell",
                  "Number": "241,000,000",
                  "Year": "2006",
                  "Company": "Sony/IBM/Toshiba",
                  "size per chip": "90 nm",
                  "total size": "221 mm²",
                  "_deepnote_index_column": 54
                },
                {
                  "Chip Name": "Core 2 Duo Conroe",
                  "Number": "291,000,000",
                  "Year": "2006",
                  "Company": "Intel",
                  "size per chip": "65 nm",
                  "total size": "143 mm²",
                  "_deepnote_index_column": 55
                },
                {
                  "Chip Name": "Dual-core Itanium 2",
                  "Number": "1,700,000,000[26]",
                  "Year": "2006",
                  "Company": "Intel",
                  "size per chip": "90 nm",
                  "total size": "596 mm²",
                  "_deepnote_index_column": 56
                },
                {
                  "Chip Name": "Pentium 4 Cedar Mill",
                  "Number": "184,000,000",
                  "Year": "2006",
                  "Company": "Intel",
                  "size per chip": "65 nm",
                  "total size": "90 mm²",
                  "_deepnote_index_column": 57
                },
                {
                  "Chip Name": "Pentium D Presler",
                  "Number": "362,000,000",
                  "Year": "2006",
                  "Company": "Intel",
                  "size per chip": "65 nm",
                  "total size": "162 mm²",
                  "_deepnote_index_column": 58
                },
                {
                  "Chip Name": "AMD K10 quad-core 2M L3",
                  "Number": "463,000,000[20]",
                  "Year": "2007",
                  "Company": "AMD",
                  "size per chip": "65 nm",
                  "total size": "283 mm²",
                  "_deepnote_index_column": 59
                },
                {
                  "Chip Name": "ARM Cortex-A9",
                  "Number": "26,000,000[21]",
                  "Year": "2007",
                  "Company": "ARM",
                  "size per chip": "45 nm",
                  "total size": "31 mm²",
                  "_deepnote_index_column": 60
                },
                {
                  "Chip Name": "Core 2 Duo Allendale",
                  "Number": "169,000,000",
                  "Year": "2007",
                  "Company": "Intel",
                  "size per chip": "65 nm",
                  "total size": "111 mm²",
                  "_deepnote_index_column": 61
                },
                {
                  "Chip Name": "Core 2 Duo Wolfdale",
                  "Number": "411,000,000",
                  "Year": "2007",
                  "Company": "Intel",
                  "size per chip": "45 nm",
                  "total size": "107 mm²",
                  "_deepnote_index_column": 62
                },
                {
                  "Chip Name": "POWER6",
                  "Number": "789,000,000",
                  "Year": "2007",
                  "Company": "IBM",
                  "size per chip": "65 nm",
                  "total size": "341 mm²",
                  "_deepnote_index_column": 63
                },
                {
                  "Chip Name": "AMD K10 quad-core 6M L3",
                  "Number": "758,000,000[20]",
                  "Year": "2008",
                  "Company": "AMD",
                  "size per chip": "45 nm",
                  "total size": "258 mm²",
                  "_deepnote_index_column": 64
                },
                {
                  "Chip Name": "Atom",
                  "Number": "47,000,000",
                  "Year": "2008",
                  "Company": "Intel",
                  "size per chip": "45 nm",
                  "total size": "24 mm²",
                  "_deepnote_index_column": 65
                },
                {
                  "Chip Name": "Core 2 Duo Wolfdale 3M",
                  "Number": "230,000,000",
                  "Year": "2008",
                  "Company": "Intel",
                  "size per chip": "45 nm",
                  "total size": "83 mm²",
                  "_deepnote_index_column": 66
                },
                {
                  "Chip Name": "Core i7 (Quad)",
                  "Number": "731,000,000",
                  "Year": "2008",
                  "Company": "Intel",
                  "size per chip": "45 nm",
                  "total size": "263 mm²",
                  "_deepnote_index_column": 67
                },
                {
                  "Chip Name": "Six-core Xeon 7400",
                  "Number": "1,900,000,000",
                  "Year": "2008",
                  "Company": "Intel",
                  "size per chip": "45 nm",
                  "total size": "503 mm²",
                  "_deepnote_index_column": 68
                },
                {
                  "Chip Name": "Six-core Opteron 2400",
                  "Number": "904,000,000",
                  "Year": "2009",
                  "Company": "AMD",
                  "size per chip": "45 nm",
                  "total size": "346 mm²",
                  "_deepnote_index_column": 69
                },
                {
                  "Chip Name": "16-core SPARC T3",
                  "Number": "1,000,000,000[22]",
                  "Year": "2010",
                  "Company": "Sun/Oracle",
                  "size per chip": "40 nm",
                  "total size": "377 mm²",
                  "_deepnote_index_column": 70
                },
                {
                  "Chip Name": "8-core POWER7 32M L3",
                  "Number": "1,200,000,000",
                  "Year": "2010",
                  "Company": "IBM",
                  "size per chip": "45 nm",
                  "total size": "567 mm²",
                  "_deepnote_index_column": 71
                },
                {
                  "Chip Name": "8-core Xeon Nehalem-EX",
                  "Number": "2,300,000,000[30]",
                  "Year": "2010",
                  "Company": "Intel",
                  "size per chip": "45 nm",
                  "total size": "684 mm²",
                  "_deepnote_index_column": 72
                },
                {
                  "Chip Name": "Quad-core Itanium Tukwila",
                  "Number": "2,000,000,000[28]",
                  "Year": "2010",
                  "Company": "Intel",
                  "size per chip": "65 nm",
                  "total size": "699 mm²",
                  "_deepnote_index_column": 73
                },
                {
                  "Chip Name": "Quad-core z196[24]",
                  "Number": "1,400,000,000",
                  "Year": "2010",
                  "Company": "IBM",
                  "size per chip": "45 nm",
                  "total size": "512 mm²",
                  "_deepnote_index_column": 74
                },
                {
                  "Chip Name": "Six-core Core i7 (Gulftown)",
                  "Number": "1,170,000,000",
                  "Year": "2010",
                  "Company": "Intel",
                  "size per chip": "32 nm",
                  "total size": "240 mm²",
                  "_deepnote_index_column": 75
                },
                {
                  "Chip Name": "10-core Xeon Westmere-EX",
                  "Number": "2,600,000,000",
                  "Year": "2011",
                  "Company": "Intel",
                  "size per chip": "32 nm",
                  "total size": "512 mm²",
                  "_deepnote_index_column": 76
                },
                {
                  "Chip Name": "Quad-core + GPU Core i7",
                  "Number": "1,160,000,000",
                  "Year": "2011",
                  "Company": "Intel",
                  "size per chip": "32 nm",
                  "total size": "216 mm²",
                  "_deepnote_index_column": 77
                },
                {
                  "Chip Name": "Six-core Core i7/8-core Xeon E5 (Sandy Bridge-E/EP)",
                  "Number": "2,270,000,000[29]",
                  "Year": "2011",
                  "Company": "Intel",
                  "size per chip": "32 nm",
                  "total size": "434 mm²",
                  "_deepnote_index_column": 78
                },
                {
                  "Chip Name": "61-core Xeon Phi",
                  "Number": "5,000,000,000[34]",
                  "Year": "2012",
                  "Company": "Intel",
                  "size per chip": "22 nm",
                  "total size": "350 mm²",
                  "_deepnote_index_column": 79
                },
                {
                  "Chip Name": "8-core AMD Bulldozer",
                  "Number": "1,200,000,000[23]",
                  "Year": "2012",
                  "Company": "AMD",
                  "size per chip": "32 nm",
                  "total size": "315 mm²",
                  "_deepnote_index_column": 80
                },
                {
                  "Chip Name": "8-core Itanium Poulson",
                  "Number": "3,100,000,000",
                  "Year": "2012",
                  "Company": "Intel",
                  "size per chip": "32 nm",
                  "total size": "544 mm²",
                  "_deepnote_index_column": 81
                },
                {
                  "Chip Name": "8-core POWER7+ 80 MB L3 cache",
                  "Number": "2,100,000,000",
                  "Year": "2012",
                  "Company": "IBM",
                  "size per chip": "32 nm",
                  "total size": "567 mm²",
                  "_deepnote_index_column": 82
                },
                {
                  "Chip Name": "Quad-core + GPU AMD Trinity",
                  "Number": "1,303,000,000",
                  "Year": "2012",
                  "Company": "AMD",
                  "size per chip": "32 nm",
                  "total size": "246 mm²",
                  "_deepnote_index_column": 83
                },
                {
                  "Chip Name": "Quad-core + GPU Core i7 Ivy Bridge",
                  "Number": "1,400,000,000",
                  "Year": "2012",
                  "Company": "Intel",
                  "size per chip": "22 nm",
                  "total size": "160 mm²",
                  "_deepnote_index_column": 84
                },
                {
                  "Chip Name": "Six-core zEC12",
                  "Number": "2,750,000,000",
                  "Year": "2012",
                  "Company": "IBM",
                  "size per chip": "32 nm",
                  "total size": "597 mm²",
                  "_deepnote_index_column": 85
                },
                {
                  "Chip Name": "12-core POWER8",
                  "Number": "4,200,000,000",
                  "Year": "2013",
                  "Company": "IBM",
                  "size per chip": "22 nm",
                  "total size": "650 mm²",
                  "_deepnote_index_column": 86
                },
                {
                  "Chip Name": "Apple A7 (dual-core ARM64 \"mobile SoC\")",
                  "Number": "1,000,000,000",
                  "Year": "2013",
                  "Company": "Apple",
                  "size per chip": "28 nm",
                  "total size": "102 mm²",
                  "_deepnote_index_column": 87
                },
                {
                  "Chip Name": "Six-core Core i7 Ivy Bridge E",
                  "Number": "1,860,000,000",
                  "Year": "2013",
                  "Company": "Intel",
                  "size per chip": "22 nm",
                  "total size": "256 mm²",
                  "_deepnote_index_column": 88
                },
                {
                  "Chip Name": "Xbox One main SoC",
                  "Number": "5,000,000,000",
                  "Year": "2013",
                  "Company": "Microsoft/AMD",
                  "size per chip": "28 nm",
                  "total size": "363 mm²",
                  "_deepnote_index_column": 89
                },
                {
                  "Chip Name": "15-core Xeon Ivy Bridge-EX",
                  "Number": "4,310,000,000[33]",
                  "Year": "2014",
                  "Company": "Intel",
                  "size per chip": "22 nm",
                  "total size": "541 mm²",
                  "_deepnote_index_column": 90
                },
                {
                  "Chip Name": "18-core Xeon Haswell-E5",
                  "Number": "5,560,000,000[35]",
                  "Year": "2014",
                  "Company": "Intel",
                  "size per chip": "22 nm",
                  "total size": "661 mm²",
                  "_deepnote_index_column": 91
                },
                {
                  "Chip Name": "8-core Core i7 Haswell-E",
                  "Number": "2,600,000,000[31]",
                  "Year": "2014",
                  "Company": "Intel",
                  "size per chip": "22 nm",
                  "total size": "355 mm²",
                  "_deepnote_index_column": 92
                },
                {
                  "Chip Name": "Apple A8 (dual-core ARM64 \"mobile SoC\")",
                  "Number": "2,000,000,000",
                  "Year": "2014",
                  "Company": "Apple",
                  "size per chip": "20 nm",
                  "total size": "89 mm²",
                  "_deepnote_index_column": 93
                },
                {
                  "Chip Name": "Apple A8X (tri-core ARM64 \"mobile SoC\")",
                  "Number": "3,000,000,000[32]",
                  "Year": "2014",
                  "Company": "Apple",
                  "size per chip": "20 nm",
                  "total size": "128 mm²",
                  "_deepnote_index_column": 94
                },
                {
                  "Chip Name": "Quad-core + GPU Core i7 Haswell",
                  "Number": "1,400,000,000[25]",
                  "Year": "2014",
                  "Company": "Intel",
                  "size per chip": "22 nm",
                  "total size": "177 mm²",
                  "_deepnote_index_column": 95
                },
                {
                  "Chip Name": "Duo-core + GPU Iris Core i7 Broadwell-U",
                  "Number": "1,900,000,000[27]",
                  "Year": "2015",
                  "Company": "Intel",
                  "size per chip": "14 nm",
                  "total size": "133 mm²",
                  "_deepnote_index_column": 96
                },
                {
                  "Chip Name": "IBM z13",
                  "Number": "3,990,000,000",
                  "Year": "2015",
                  "Company": "IBM",
                  "size per chip": "22 nm",
                  "total size": "678 mm²",
                  "_deepnote_index_column": 97
                },
                {
                  "Chip Name": "IBM z13 Storage Controller",
                  "Number": "7,100,000,000",
                  "Year": "2015",
                  "Company": "IBM",
                  "size per chip": "22 nm",
                  "total size": "678 mm²",
                  "_deepnote_index_column": 98
                },
                {
                  "Chip Name": "Quad-core + GPU GT2 Core i7 Skylake K",
                  "Number": "cca 1,750,000,000",
                  "Year": "2015",
                  "Company": "Intel",
                  "size per chip": "14 nm",
                  "total size": "122 mm²",
                  "_deepnote_index_column": 99
                },
                {
                  "Chip Name": "SPARC M7",
                  "Number": "10,000,000,000[37]",
                  "Year": "2015",
                  "Company": "Oracle",
                  "size per chip": "20 nm",
                  "total size": "nan",
                  "_deepnote_index_column": 100
                },
                {
                  "Chip Name": "22-core Xeon Broadwell-E5",
                  "Number": "~7,200,000,000[36]",
                  "Year": "2016",
                  "Company": "Intel",
                  "size per chip": "14 nm",
                  "total size": "456 mm²",
                  "_deepnote_index_column": 101
                }
              ],
              "rows_bottom": null
            },
            "text/plain": "                                 Chip Name              Number  Year  \\\n0                               Intel 4004               2,300  1971   \n1                               Intel 8008               3,500  1972   \n2                               Intel 8080               4,500  1974   \n3                            Motorola 6800               4,100  1974   \n4                                 RCA 1802               5,000  1974   \n..                                     ...                 ...   ...   \n97                                 IBM z13       3,990,000,000  2015   \n98              IBM z13 Storage Controller       7,100,000,000  2015   \n99   Quad-core + GPU GT2 Core i7 Skylake K   cca 1,750,000,000  2015   \n100                               SPARC M7  10,000,000,000[37]  2015   \n101              22-core Xeon Broadwell-E5  ~7,200,000,000[36]  2016   \n\n      Company size per chip total size  \n0       Intel     10,000 nm     12 mm²  \n1       Intel     10,000 nm     14 mm²  \n2       Intel      6,000 nm     20 mm²  \n3    Motorola      6,000 nm     16 mm²  \n4         RCA      5,000 nm     27 mm²  \n..        ...           ...        ...  \n97        IBM         22 nm    678 mm²  \n98        IBM         22 nm    678 mm²  \n99      Intel         14 nm    122 mm²  \n100    Oracle         20 nm        NaN  \n101     Intel         14 nm    456 mm²  \n\n[102 rows x 6 columns]",
            "text/html": "<div>\n<style scoped>\n    .dataframe tbody tr th:only-of-type {\n        vertical-align: middle;\n    }\n\n    .dataframe tbody tr th {\n        vertical-align: top;\n    }\n\n    .dataframe thead th {\n        text-align: right;\n    }\n</style>\n<table border=\"1\" class=\"dataframe\">\n  <thead>\n    <tr style=\"text-align: right;\">\n      <th></th>\n      <th>Chip Name</th>\n      <th>Number</th>\n      <th>Year</th>\n      <th>Company</th>\n      <th>size per chip</th>\n      <th>total size</th>\n    </tr>\n  </thead>\n  <tbody>\n    <tr>\n      <th>0</th>\n      <td>Intel 4004</td>\n      <td>2,300</td>\n      <td>1971</td>\n      <td>Intel</td>\n      <td>10,000 nm</td>\n      <td>12 mm²</td>\n    </tr>\n    <tr>\n      <th>1</th>\n      <td>Intel 8008</td>\n      <td>3,500</td>\n      <td>1972</td>\n      <td>Intel</td>\n      <td>10,000 nm</td>\n      <td>14 mm²</td>\n    </tr>\n    <tr>\n      <th>2</th>\n      <td>Intel 8080</td>\n      <td>4,500</td>\n      <td>1974</td>\n      <td>Intel</td>\n      <td>6,000 nm</td>\n      <td>20 mm²</td>\n    </tr>\n    <tr>\n      <th>3</th>\n      <td>Motorola 6800</td>\n      <td>4,100</td>\n      <td>1974</td>\n      <td>Motorola</td>\n      <td>6,000 nm</td>\n      <td>16 mm²</td>\n    </tr>\n    <tr>\n      <th>4</th>\n      <td>RCA 1802</td>\n      <td>5,000</td>\n      <td>1974</td>\n      <td>RCA</td>\n      <td>5,000 nm</td>\n      <td>27 mm²</td>\n    </tr>\n    <tr>\n      <th>...</th>\n      <td>...</td>\n      <td>...</td>\n      <td>...</td>\n      <td>...</td>\n      <td>...</td>\n      <td>...</td>\n    </tr>\n    <tr>\n      <th>97</th>\n      <td>IBM z13</td>\n      <td>3,990,000,000</td>\n      <td>2015</td>\n      <td>IBM</td>\n      <td>22 nm</td>\n      <td>678 mm²</td>\n    </tr>\n    <tr>\n      <th>98</th>\n      <td>IBM z13 Storage Controller</td>\n      <td>7,100,000,000</td>\n      <td>2015</td>\n      <td>IBM</td>\n      <td>22 nm</td>\n      <td>678 mm²</td>\n    </tr>\n    <tr>\n      <th>99</th>\n      <td>Quad-core + GPU GT2 Core i7 Skylake K</td>\n      <td>cca 1,750,000,000</td>\n      <td>2015</td>\n      <td>Intel</td>\n      <td>14 nm</td>\n      <td>122 mm²</td>\n    </tr>\n    <tr>\n      <th>100</th>\n      <td>SPARC M7</td>\n      <td>10,000,000,000[37]</td>\n      <td>2015</td>\n      <td>Oracle</td>\n      <td>20 nm</td>\n      <td>NaN</td>\n    </tr>\n    <tr>\n      <th>101</th>\n      <td>22-core Xeon Broadwell-E5</td>\n      <td>~7,200,000,000[36]</td>\n      <td>2016</td>\n      <td>Intel</td>\n      <td>14 nm</td>\n      <td>456 mm²</td>\n    </tr>\n  </tbody>\n</table>\n<p>102 rows × 6 columns</p>\n</div>"
          },
          "metadata": {}
        }
      ]
    },
    {
      "cell_type": "code",
      "metadata": {
        "tags": [],
        "cell_id": "00003-f8080176-51cb-4284-9d4c-8e1b09366e0f",
        "deepnote_to_be_reexecuted": false,
        "source_hash": "95e76f8f",
        "execution_millis": 2,
        "execution_start": 1617587548949,
        "deepnote_cell_type": "code"
      },
      "source": "pattern = '\\[[0-9]*[a-z]*[A-Z]*\\]'\n",
      "execution_count": 4,
      "outputs": []
    },
    {
      "cell_type": "code",
      "metadata": {
        "tags": [],
        "cell_id": "00004-e11e9ae7-0ab3-46ce-bcce-0bad4e5dba8c",
        "deepnote_to_be_reexecuted": false,
        "source_hash": "48034d4e",
        "execution_millis": 1,
        "execution_start": 1617587548971,
        "deepnote_cell_type": "code"
      },
      "source": "# pattern = '\\[\\d\\]'\n# def clearning_username(text):\n#     text = text.lower()\n#     text = re.sub(pattern,'', str(text))\n#     print(text)\n#     return text.lower()\n# print(clearning_username('Bibek[5]prs'))",
      "execution_count": 5,
      "outputs": []
    },
    {
      "cell_type": "code",
      "metadata": {
        "tags": [],
        "cell_id": "00003-c6be0c0e-8aa6-4848-8346-b1f76dafa8d2",
        "deepnote_to_be_reexecuted": false,
        "source_hash": "72872673",
        "execution_millis": 0,
        "execution_start": 1617587548972,
        "deepnote_cell_type": "code"
      },
      "source": "def clean(x):\n    text= re.sub(pattern,'', str(x))\n    text = re.sub('[%s]' % string.punctuation, '', text)\n    text = re.sub('[a-z]*[A-Z]*', '', text)\n    return text.lower()\n\n\nround1 = lambda x: clean(x)",
      "execution_count": 6,
      "outputs": []
    },
    {
      "cell_type": "code",
      "metadata": {
        "tags": [],
        "cell_id": "00005-91051f3f-a122-4b7e-a80e-db8704e0dd89",
        "deepnote_to_be_reexecuted": false,
        "source_hash": "885300b4",
        "execution_millis": 9,
        "execution_start": 1617587548972,
        "deepnote_cell_type": "code"
      },
      "source": "ok = 'Bibek[4] I , ? am b[dfd]'\nprint(clean(ok))",
      "execution_count": 7,
      "outputs": [
        {
          "name": "stdout",
          "text": "     \n",
          "output_type": "stream"
        }
      ]
    },
    {
      "cell_type": "code",
      "metadata": {
        "tags": [],
        "cell_id": "00004-341ebc03-870a-4ec9-a608-fd9b61fb09b2",
        "deepnote_to_be_reexecuted": false,
        "source_hash": "68ec1e5f",
        "execution_millis": 29,
        "execution_start": 1617587548976,
        "deepnote_cell_type": "code"
      },
      "source": "df.Year = pd.DataFrame(df['Year'].apply(round1))\ndf.Number = pd.DataFrame(df['Number'].apply(round1))\ndf",
      "execution_count": 8,
      "outputs": [
        {
          "output_type": "execute_result",
          "execution_count": 8,
          "data": {
            "application/vnd.deepnote.dataframe.v2+json": {
              "row_count": 102,
              "column_count": 6,
              "columns": [
                {
                  "name": "Chip Name",
                  "dtype": "object",
                  "stats": {
                    "unique_count": 102,
                    "nan_count": 0,
                    "categories": [
                      {
                        "name": "Intel 4004",
                        "count": 1
                      },
                      {
                        "name": "Intel 8008",
                        "count": 1
                      },
                      {
                        "name": "100 others",
                        "count": 100
                      }
                    ]
                  }
                },
                {
                  "name": "Number",
                  "dtype": "object",
                  "stats": {
                    "unique_count": 91,
                    "nan_count": 0,
                    "categories": [
                      {
                        "name": "1400000000",
                        "count": 3
                      },
                      {
                        "name": "29000",
                        "count": 2
                      },
                      {
                        "name": "89 others",
                        "count": 97
                      }
                    ]
                  }
                },
                {
                  "name": "Year",
                  "dtype": "object",
                  "stats": {
                    "unique_count": 41,
                    "nan_count": 0,
                    "categories": [
                      {
                        "name": "2012",
                        "count": 7
                      },
                      {
                        "name": "2010",
                        "count": 6
                      },
                      {
                        "name": "39 others",
                        "count": 89
                      }
                    ]
                  }
                },
                {
                  "name": "Company",
                  "dtype": "object",
                  "stats": {
                    "unique_count": 20,
                    "nan_count": 0,
                    "categories": [
                      {
                        "name": "Intel",
                        "count": 54
                      },
                      {
                        "name": "AMD",
                        "count": 11
                      },
                      {
                        "name": "18 others",
                        "count": 37
                      }
                    ]
                  }
                },
                {
                  "name": "size per chip",
                  "dtype": "object",
                  "stats": {
                    "unique_count": 28,
                    "nan_count": 5,
                    "categories": [
                      {
                        "name": "45 nm",
                        "count": 11
                      },
                      {
                        "name": "27 others",
                        "count": 86
                      },
                      {
                        "name": "Missing",
                        "count": 5
                      }
                    ]
                  }
                },
                {
                  "name": "total size",
                  "dtype": "object",
                  "stats": {
                    "unique_count": 85,
                    "nan_count": 7,
                    "categories": [
                      {
                        "name": "20 mm²",
                        "count": 2
                      },
                      {
                        "name": "84 others",
                        "count": 93
                      },
                      {
                        "name": "Missing",
                        "count": 7
                      }
                    ]
                  }
                },
                {
                  "name": "_deepnote_index_column",
                  "dtype": "int64"
                }
              ],
              "rows_top": [
                {
                  "Chip Name": "Intel 4004",
                  "Number": "2300",
                  "Year": "1971",
                  "Company": "Intel",
                  "size per chip": "10,000 nm",
                  "total size": "12 mm²",
                  "_deepnote_index_column": 0
                },
                {
                  "Chip Name": "Intel 8008",
                  "Number": "3500",
                  "Year": "1972",
                  "Company": "Intel",
                  "size per chip": "10,000 nm",
                  "total size": "14 mm²",
                  "_deepnote_index_column": 1
                },
                {
                  "Chip Name": "Intel 8080",
                  "Number": "4500",
                  "Year": "1974",
                  "Company": "Intel",
                  "size per chip": "6,000 nm",
                  "total size": "20 mm²",
                  "_deepnote_index_column": 2
                },
                {
                  "Chip Name": "Motorola 6800",
                  "Number": "4100",
                  "Year": "1974",
                  "Company": "Motorola",
                  "size per chip": "6,000 nm",
                  "total size": "16 mm²",
                  "_deepnote_index_column": 3
                },
                {
                  "Chip Name": "RCA 1802",
                  "Number": "5000",
                  "Year": "1974",
                  "Company": "RCA",
                  "size per chip": "5,000 nm",
                  "total size": "27 mm²",
                  "_deepnote_index_column": 4
                },
                {
                  "Chip Name": "TMS 1000",
                  "Number": "8000",
                  "Year": "1974",
                  "Company": "Texas Instruments",
                  "size per chip": "8,000 nm",
                  "total size": "nan",
                  "_deepnote_index_column": 5
                },
                {
                  "Chip Name": "MOS Technology 6502",
                  "Number": "3510",
                  "Year": "1975",
                  "Company": "MOS Technology",
                  "size per chip": "8,000 nm",
                  "total size": "21 mm²",
                  "_deepnote_index_column": 6
                },
                {
                  "Chip Name": "Intel 8085",
                  "Number": "6500",
                  "Year": "1976",
                  "Company": "Intel",
                  "size per chip": "3,000 nm",
                  "total size": "20 mm²",
                  "_deepnote_index_column": 7
                },
                {
                  "Chip Name": "Zilog Z80",
                  "Number": "8500",
                  "Year": "1976",
                  "Company": "Zilog",
                  "size per chip": "4,000 nm",
                  "total size": "18 mm²",
                  "_deepnote_index_column": 8
                },
                {
                  "Chip Name": "Intel 8086",
                  "Number": "29000",
                  "Year": "1978",
                  "Company": "Intel",
                  "size per chip": "3,000 nm",
                  "total size": "33 mm²",
                  "_deepnote_index_column": 9
                },
                {
                  "Chip Name": "Motorola 6809",
                  "Number": "9000",
                  "Year": "1978",
                  "Company": "Motorola",
                  "size per chip": "5,000 nm",
                  "total size": "21 mm²",
                  "_deepnote_index_column": 10
                },
                {
                  "Chip Name": "Intel 8088",
                  "Number": "29000",
                  "Year": "1979",
                  "Company": "Intel",
                  "size per chip": "3,000 nm",
                  "total size": "33 mm²",
                  "_deepnote_index_column": 11
                },
                {
                  "Chip Name": "Motorola 68000",
                  "Number": "68000",
                  "Year": "1979",
                  "Company": "Motorola",
                  "size per chip": "3,500 nm",
                  "total size": "44 mm²",
                  "_deepnote_index_column": 12
                },
                {
                  "Chip Name": "WDC 65C02",
                  "Number": "11500",
                  "Year": "1981",
                  "Company": "WDC",
                  "size per chip": "3,000 nm",
                  "total size": "6 mm²",
                  "_deepnote_index_column": 13
                },
                {
                  "Chip Name": "Intel 80186",
                  "Number": "55000",
                  "Year": "1982",
                  "Company": "Intel",
                  "size per chip": "3,000 nm",
                  "total size": "60 mm²",
                  "_deepnote_index_column": 14
                },
                {
                  "Chip Name": "Intel 80286",
                  "Number": "134000",
                  "Year": "1982",
                  "Company": "Intel",
                  "size per chip": "1,500 nm",
                  "total size": "49 mm²",
                  "_deepnote_index_column": 15
                },
                {
                  "Chip Name": "WDC 65C816",
                  "Number": "22000",
                  "Year": "1983",
                  "Company": "WDC",
                  "size per chip": "nan",
                  "total size": "9 mm²",
                  "_deepnote_index_column": 16
                },
                {
                  "Chip Name": "Motorola 68020",
                  "Number": "190000",
                  "Year": "1984",
                  "Company": "Motorola",
                  "size per chip": "2,000 nm",
                  "total size": "85 mm²",
                  "_deepnote_index_column": 17
                },
                {
                  "Chip Name": "ARM 1",
                  "Number": "25000",
                  "Year": "1985",
                  "Company": "Acorn",
                  "size per chip": "3,000 nm",
                  "total size": "50 mm²",
                  "_deepnote_index_column": 18
                },
                {
                  "Chip Name": "Intel 80386",
                  "Number": "275000",
                  "Year": "1985",
                  "Company": "Intel",
                  "size per chip": "1,500 nm",
                  "total size": "104 mm²",
                  "_deepnote_index_column": 19
                },
                {
                  "Chip Name": "Novix NC4016",
                  "Number": "16000",
                  "Year": "1985",
                  "Company": "Harris Corporation",
                  "size per chip": "3,000 nm[14]",
                  "total size": "nan",
                  "_deepnote_index_column": 20
                },
                {
                  "Chip Name": "ARM 2",
                  "Number": "30000",
                  "Year": "1986",
                  "Company": "Acorn",
                  "size per chip": "2,000 nm",
                  "total size": "30 mm²",
                  "_deepnote_index_column": 21
                },
                {
                  "Chip Name": "TI Explorer's 32-bit Lisp machine chip",
                  "Number": "553000",
                  "Year": "1987",
                  "Company": "Texas Instruments",
                  "size per chip": "nan",
                  "total size": "nan",
                  "_deepnote_index_column": 22
                },
                {
                  "Chip Name": "DEC WRL MultiTitan",
                  "Number": "180000",
                  "Year": "1988",
                  "Company": "DEC WRL",
                  "size per chip": "1,500 nm",
                  "total size": "61 mm²",
                  "_deepnote_index_column": 23
                },
                {
                  "Chip Name": "Intel i960",
                  "Number": "250000",
                  "Year": "1988",
                  "Company": "Intel",
                  "size per chip": "600 nm",
                  "total size": "nan",
                  "_deepnote_index_column": 24
                },
                {
                  "Chip Name": "ARM 3",
                  "Number": "300000",
                  "Year": "1989",
                  "Company": "Acorn",
                  "size per chip": "nan",
                  "total size": "nan",
                  "_deepnote_index_column": 25
                },
                {
                  "Chip Name": "Intel 80486",
                  "Number": "1180235",
                  "Year": "1989",
                  "Company": "Intel",
                  "size per chip": "1000 nm",
                  "total size": "173 mm²",
                  "_deepnote_index_column": 26
                },
                {
                  "Chip Name": "ARM 6",
                  "Number": "35000",
                  "Year": "1991",
                  "Company": "ARM",
                  "size per chip": "nan",
                  "total size": "nan",
                  "_deepnote_index_column": 27
                },
                {
                  "Chip Name": "R4000",
                  "Number": "1350000",
                  "Year": "1991",
                  "Company": "MIPS",
                  "size per chip": "1,000 nm",
                  "total size": "213 mm²",
                  "_deepnote_index_column": 28
                },
                {
                  "Chip Name": "Pentium",
                  "Number": "3100000",
                  "Year": "1993",
                  "Company": "Intel",
                  "size per chip": "800 nm",
                  "total size": "294 mm²",
                  "_deepnote_index_column": 29
                },
                {
                  "Chip Name": "ARM700",
                  "Number": "578977",
                  "Year": "1994",
                  "Company": "ARM",
                  "size per chip": "nan",
                  "total size": "68.51 mm²",
                  "_deepnote_index_column": 30
                },
                {
                  "Chip Name": "Pentium Pro",
                  "Number": "5500000",
                  "Year": "1995",
                  "Company": "Intel",
                  "size per chip": "500 nm",
                  "total size": "307 mm²",
                  "_deepnote_index_column": 31
                },
                {
                  "Chip Name": "SA-110",
                  "Number": "2500000",
                  "Year": "1995",
                  "Company": "Acorn/DEC/Apple",
                  "size per chip": "350 nm",
                  "total size": "50 mm²",
                  "_deepnote_index_column": 32
                },
                {
                  "Chip Name": "AMD K5",
                  "Number": "4300000",
                  "Year": "1996",
                  "Company": "AMD",
                  "size per chip": "500 nm",
                  "total size": "251 mm²",
                  "_deepnote_index_column": 33
                },
                {
                  "Chip Name": "AMD K6",
                  "Number": "8800000",
                  "Year": "1997",
                  "Company": "AMD",
                  "size per chip": "350 nm",
                  "total size": "162 mm²",
                  "_deepnote_index_column": 34
                },
                {
                  "Chip Name": "Pentium II Klamath",
                  "Number": "7500000",
                  "Year": "1997",
                  "Company": "Intel",
                  "size per chip": "350 nm",
                  "total size": "195 mm²",
                  "_deepnote_index_column": 35
                },
                {
                  "Chip Name": "Pentium II Deschutes",
                  "Number": "7500000",
                  "Year": "1998",
                  "Company": "Intel",
                  "size per chip": "250 nm",
                  "total size": "113 mm²",
                  "_deepnote_index_column": 36
                },
                {
                  "Chip Name": "AMD K6-III",
                  "Number": "21300000",
                  "Year": "1999",
                  "Company": "AMD",
                  "size per chip": "250 nm",
                  "total size": "118 mm²",
                  "_deepnote_index_column": 37
                },
                {
                  "Chip Name": "AMD K7",
                  "Number": "22000000",
                  "Year": "1999",
                  "Company": "AMD",
                  "size per chip": "250 nm",
                  "total size": "184 mm²",
                  "_deepnote_index_column": 38
                },
                {
                  "Chip Name": "ARM 9TDMI",
                  "Number": "111000",
                  "Year": "1999",
                  "Company": "Acorn",
                  "size per chip": "350 nm",
                  "total size": "4.8 mm²",
                  "_deepnote_index_column": 39
                },
                {
                  "Chip Name": "Pentium II Mobile Dixon",
                  "Number": "27400000",
                  "Year": "1999",
                  "Company": "Intel",
                  "size per chip": "180 nm",
                  "total size": "180 mm²",
                  "_deepnote_index_column": 40
                },
                {
                  "Chip Name": "Pentium III Katmai",
                  "Number": "9500000",
                  "Year": "1999",
                  "Company": "Intel",
                  "size per chip": "250 nm",
                  "total size": "128 mm²",
                  "_deepnote_index_column": 41
                },
                {
                  "Chip Name": "Pentium 4 Willamette",
                  "Number": "42000000",
                  "Year": "2000",
                  "Company": "Intel",
                  "size per chip": "180 nm",
                  "total size": "217 mm²",
                  "_deepnote_index_column": 42
                },
                {
                  "Chip Name": "Pentium III Coppermine",
                  "Number": "21000000",
                  "Year": "2000",
                  "Company": "Intel",
                  "size per chip": "180 nm",
                  "total size": "80 mm²",
                  "_deepnote_index_column": 43
                },
                {
                  "Chip Name": "Pentium III Tualatin",
                  "Number": "45000000",
                  "Year": "2001",
                  "Company": "Intel",
                  "size per chip": "130 nm",
                  "total size": "81 mm²",
                  "_deepnote_index_column": 44
                },
                {
                  "Chip Name": "Itanium 2 McKinley",
                  "Number": "220000000",
                  "Year": "2002",
                  "Company": "Intel",
                  "size per chip": "180 nm",
                  "total size": "421 mm²",
                  "_deepnote_index_column": 45
                },
                {
                  "Chip Name": "Pentium 4 Northwood",
                  "Number": "55000000",
                  "Year": "2002",
                  "Company": "Intel",
                  "size per chip": "130 nm",
                  "total size": "145 mm²",
                  "_deepnote_index_column": 46
                },
                {
                  "Chip Name": "AMD K8",
                  "Number": "105900000",
                  "Year": "2003",
                  "Company": "AMD",
                  "size per chip": "130 nm",
                  "total size": "193 mm²",
                  "_deepnote_index_column": 47
                },
                {
                  "Chip Name": "Barton",
                  "Number": "54300000",
                  "Year": "2003",
                  "Company": "AMD",
                  "size per chip": "130 nm",
                  "total size": "101 mm²",
                  "_deepnote_index_column": 48
                },
                {
                  "Chip Name": "Itanium 2 Madison 6M",
                  "Number": "410000000",
                  "Year": "2003",
                  "Company": "Intel",
                  "size per chip": "130 nm",
                  "total size": "374 mm²",
                  "_deepnote_index_column": 49
                },
                {
                  "Chip Name": "Itanium 2 with 9 MB cache",
                  "Number": "592000000",
                  "Year": "2004",
                  "Company": "Intel",
                  "size per chip": "130 nm",
                  "total size": "432 mm²",
                  "_deepnote_index_column": 50
                },
                {
                  "Chip Name": "Pentium 4 Prescott",
                  "Number": "112000000",
                  "Year": "2004",
                  "Company": "Intel",
                  "size per chip": "90 nm",
                  "total size": "110 mm²",
                  "_deepnote_index_column": 51
                },
                {
                  "Chip Name": "Pentium 4 Prescott-2M",
                  "Number": "169000000",
                  "Year": "2005",
                  "Company": "Intel",
                  "size per chip": "90 nm",
                  "total size": "143 mm²",
                  "_deepnote_index_column": 52
                },
                {
                  "Chip Name": "Pentium D Smithfield",
                  "Number": "228000000",
                  "Year": "2005",
                  "Company": "Intel",
                  "size per chip": "90 nm",
                  "total size": "206 mm²",
                  "_deepnote_index_column": 53
                },
                {
                  "Chip Name": "Cell",
                  "Number": "241000000",
                  "Year": "2006",
                  "Company": "Sony/IBM/Toshiba",
                  "size per chip": "90 nm",
                  "total size": "221 mm²",
                  "_deepnote_index_column": 54
                },
                {
                  "Chip Name": "Core 2 Duo Conroe",
                  "Number": "291000000",
                  "Year": "2006",
                  "Company": "Intel",
                  "size per chip": "65 nm",
                  "total size": "143 mm²",
                  "_deepnote_index_column": 55
                },
                {
                  "Chip Name": "Dual-core Itanium 2",
                  "Number": "1700000000",
                  "Year": "2006",
                  "Company": "Intel",
                  "size per chip": "90 nm",
                  "total size": "596 mm²",
                  "_deepnote_index_column": 56
                },
                {
                  "Chip Name": "Pentium 4 Cedar Mill",
                  "Number": "184000000",
                  "Year": "2006",
                  "Company": "Intel",
                  "size per chip": "65 nm",
                  "total size": "90 mm²",
                  "_deepnote_index_column": 57
                },
                {
                  "Chip Name": "Pentium D Presler",
                  "Number": "362000000",
                  "Year": "2006",
                  "Company": "Intel",
                  "size per chip": "65 nm",
                  "total size": "162 mm²",
                  "_deepnote_index_column": 58
                },
                {
                  "Chip Name": "AMD K10 quad-core 2M L3",
                  "Number": "463000000",
                  "Year": "2007",
                  "Company": "AMD",
                  "size per chip": "65 nm",
                  "total size": "283 mm²",
                  "_deepnote_index_column": 59
                },
                {
                  "Chip Name": "ARM Cortex-A9",
                  "Number": "26000000",
                  "Year": "2007",
                  "Company": "ARM",
                  "size per chip": "45 nm",
                  "total size": "31 mm²",
                  "_deepnote_index_column": 60
                },
                {
                  "Chip Name": "Core 2 Duo Allendale",
                  "Number": "169000000",
                  "Year": "2007",
                  "Company": "Intel",
                  "size per chip": "65 nm",
                  "total size": "111 mm²",
                  "_deepnote_index_column": 61
                },
                {
                  "Chip Name": "Core 2 Duo Wolfdale",
                  "Number": "411000000",
                  "Year": "2007",
                  "Company": "Intel",
                  "size per chip": "45 nm",
                  "total size": "107 mm²",
                  "_deepnote_index_column": 62
                },
                {
                  "Chip Name": "POWER6",
                  "Number": "789000000",
                  "Year": "2007",
                  "Company": "IBM",
                  "size per chip": "65 nm",
                  "total size": "341 mm²",
                  "_deepnote_index_column": 63
                },
                {
                  "Chip Name": "AMD K10 quad-core 6M L3",
                  "Number": "758000000",
                  "Year": "2008",
                  "Company": "AMD",
                  "size per chip": "45 nm",
                  "total size": "258 mm²",
                  "_deepnote_index_column": 64
                },
                {
                  "Chip Name": "Atom",
                  "Number": "47000000",
                  "Year": "2008",
                  "Company": "Intel",
                  "size per chip": "45 nm",
                  "total size": "24 mm²",
                  "_deepnote_index_column": 65
                },
                {
                  "Chip Name": "Core 2 Duo Wolfdale 3M",
                  "Number": "230000000",
                  "Year": "2008",
                  "Company": "Intel",
                  "size per chip": "45 nm",
                  "total size": "83 mm²",
                  "_deepnote_index_column": 66
                },
                {
                  "Chip Name": "Core i7 (Quad)",
                  "Number": "731000000",
                  "Year": "2008",
                  "Company": "Intel",
                  "size per chip": "45 nm",
                  "total size": "263 mm²",
                  "_deepnote_index_column": 67
                },
                {
                  "Chip Name": "Six-core Xeon 7400",
                  "Number": "1900000000",
                  "Year": "2008",
                  "Company": "Intel",
                  "size per chip": "45 nm",
                  "total size": "503 mm²",
                  "_deepnote_index_column": 68
                },
                {
                  "Chip Name": "Six-core Opteron 2400",
                  "Number": "904000000",
                  "Year": "2009",
                  "Company": "AMD",
                  "size per chip": "45 nm",
                  "total size": "346 mm²",
                  "_deepnote_index_column": 69
                },
                {
                  "Chip Name": "16-core SPARC T3",
                  "Number": "1000000000",
                  "Year": "2010",
                  "Company": "Sun/Oracle",
                  "size per chip": "40 nm",
                  "total size": "377 mm²",
                  "_deepnote_index_column": 70
                },
                {
                  "Chip Name": "8-core POWER7 32M L3",
                  "Number": "1200000000",
                  "Year": "2010",
                  "Company": "IBM",
                  "size per chip": "45 nm",
                  "total size": "567 mm²",
                  "_deepnote_index_column": 71
                },
                {
                  "Chip Name": "8-core Xeon Nehalem-EX",
                  "Number": "2300000000",
                  "Year": "2010",
                  "Company": "Intel",
                  "size per chip": "45 nm",
                  "total size": "684 mm²",
                  "_deepnote_index_column": 72
                },
                {
                  "Chip Name": "Quad-core Itanium Tukwila",
                  "Number": "2000000000",
                  "Year": "2010",
                  "Company": "Intel",
                  "size per chip": "65 nm",
                  "total size": "699 mm²",
                  "_deepnote_index_column": 73
                },
                {
                  "Chip Name": "Quad-core z196[24]",
                  "Number": "1400000000",
                  "Year": "2010",
                  "Company": "IBM",
                  "size per chip": "45 nm",
                  "total size": "512 mm²",
                  "_deepnote_index_column": 74
                },
                {
                  "Chip Name": "Six-core Core i7 (Gulftown)",
                  "Number": "1170000000",
                  "Year": "2010",
                  "Company": "Intel",
                  "size per chip": "32 nm",
                  "total size": "240 mm²",
                  "_deepnote_index_column": 75
                },
                {
                  "Chip Name": "10-core Xeon Westmere-EX",
                  "Number": "2600000000",
                  "Year": "2011",
                  "Company": "Intel",
                  "size per chip": "32 nm",
                  "total size": "512 mm²",
                  "_deepnote_index_column": 76
                },
                {
                  "Chip Name": "Quad-core + GPU Core i7",
                  "Number": "1160000000",
                  "Year": "2011",
                  "Company": "Intel",
                  "size per chip": "32 nm",
                  "total size": "216 mm²",
                  "_deepnote_index_column": 77
                },
                {
                  "Chip Name": "Six-core Core i7/8-core Xeon E5 (Sandy Bridge-E/EP)",
                  "Number": "2270000000",
                  "Year": "2011",
                  "Company": "Intel",
                  "size per chip": "32 nm",
                  "total size": "434 mm²",
                  "_deepnote_index_column": 78
                },
                {
                  "Chip Name": "61-core Xeon Phi",
                  "Number": "5000000000",
                  "Year": "2012",
                  "Company": "Intel",
                  "size per chip": "22 nm",
                  "total size": "350 mm²",
                  "_deepnote_index_column": 79
                },
                {
                  "Chip Name": "8-core AMD Bulldozer",
                  "Number": "1200000000",
                  "Year": "2012",
                  "Company": "AMD",
                  "size per chip": "32 nm",
                  "total size": "315 mm²",
                  "_deepnote_index_column": 80
                },
                {
                  "Chip Name": "8-core Itanium Poulson",
                  "Number": "3100000000",
                  "Year": "2012",
                  "Company": "Intel",
                  "size per chip": "32 nm",
                  "total size": "544 mm²",
                  "_deepnote_index_column": 81
                },
                {
                  "Chip Name": "8-core POWER7+ 80 MB L3 cache",
                  "Number": "2100000000",
                  "Year": "2012",
                  "Company": "IBM",
                  "size per chip": "32 nm",
                  "total size": "567 mm²",
                  "_deepnote_index_column": 82
                },
                {
                  "Chip Name": "Quad-core + GPU AMD Trinity",
                  "Number": "1303000000",
                  "Year": "2012",
                  "Company": "AMD",
                  "size per chip": "32 nm",
                  "total size": "246 mm²",
                  "_deepnote_index_column": 83
                },
                {
                  "Chip Name": "Quad-core + GPU Core i7 Ivy Bridge",
                  "Number": "1400000000",
                  "Year": "2012",
                  "Company": "Intel",
                  "size per chip": "22 nm",
                  "total size": "160 mm²",
                  "_deepnote_index_column": 84
                },
                {
                  "Chip Name": "Six-core zEC12",
                  "Number": "2750000000",
                  "Year": "2012",
                  "Company": "IBM",
                  "size per chip": "32 nm",
                  "total size": "597 mm²",
                  "_deepnote_index_column": 85
                },
                {
                  "Chip Name": "12-core POWER8",
                  "Number": "4200000000",
                  "Year": "2013",
                  "Company": "IBM",
                  "size per chip": "22 nm",
                  "total size": "650 mm²",
                  "_deepnote_index_column": 86
                },
                {
                  "Chip Name": "Apple A7 (dual-core ARM64 \"mobile SoC\")",
                  "Number": "1000000000",
                  "Year": "2013",
                  "Company": "Apple",
                  "size per chip": "28 nm",
                  "total size": "102 mm²",
                  "_deepnote_index_column": 87
                },
                {
                  "Chip Name": "Six-core Core i7 Ivy Bridge E",
                  "Number": "1860000000",
                  "Year": "2013",
                  "Company": "Intel",
                  "size per chip": "22 nm",
                  "total size": "256 mm²",
                  "_deepnote_index_column": 88
                },
                {
                  "Chip Name": "Xbox One main SoC",
                  "Number": "5000000000",
                  "Year": "2013",
                  "Company": "Microsoft/AMD",
                  "size per chip": "28 nm",
                  "total size": "363 mm²",
                  "_deepnote_index_column": 89
                },
                {
                  "Chip Name": "15-core Xeon Ivy Bridge-EX",
                  "Number": "4310000000",
                  "Year": "2014",
                  "Company": "Intel",
                  "size per chip": "22 nm",
                  "total size": "541 mm²",
                  "_deepnote_index_column": 90
                },
                {
                  "Chip Name": "18-core Xeon Haswell-E5",
                  "Number": "5560000000",
                  "Year": "2014",
                  "Company": "Intel",
                  "size per chip": "22 nm",
                  "total size": "661 mm²",
                  "_deepnote_index_column": 91
                },
                {
                  "Chip Name": "8-core Core i7 Haswell-E",
                  "Number": "2600000000",
                  "Year": "2014",
                  "Company": "Intel",
                  "size per chip": "22 nm",
                  "total size": "355 mm²",
                  "_deepnote_index_column": 92
                },
                {
                  "Chip Name": "Apple A8 (dual-core ARM64 \"mobile SoC\")",
                  "Number": "2000000000",
                  "Year": "2014",
                  "Company": "Apple",
                  "size per chip": "20 nm",
                  "total size": "89 mm²",
                  "_deepnote_index_column": 93
                },
                {
                  "Chip Name": "Apple A8X (tri-core ARM64 \"mobile SoC\")",
                  "Number": "3000000000",
                  "Year": "2014",
                  "Company": "Apple",
                  "size per chip": "20 nm",
                  "total size": "128 mm²",
                  "_deepnote_index_column": 94
                },
                {
                  "Chip Name": "Quad-core + GPU Core i7 Haswell",
                  "Number": "1400000000",
                  "Year": "2014",
                  "Company": "Intel",
                  "size per chip": "22 nm",
                  "total size": "177 mm²",
                  "_deepnote_index_column": 95
                },
                {
                  "Chip Name": "Duo-core + GPU Iris Core i7 Broadwell-U",
                  "Number": "1900000000",
                  "Year": "2015",
                  "Company": "Intel",
                  "size per chip": "14 nm",
                  "total size": "133 mm²",
                  "_deepnote_index_column": 96
                },
                {
                  "Chip Name": "IBM z13",
                  "Number": "3990000000",
                  "Year": "2015",
                  "Company": "IBM",
                  "size per chip": "22 nm",
                  "total size": "678 mm²",
                  "_deepnote_index_column": 97
                },
                {
                  "Chip Name": "IBM z13 Storage Controller",
                  "Number": "7100000000",
                  "Year": "2015",
                  "Company": "IBM",
                  "size per chip": "22 nm",
                  "total size": "678 mm²",
                  "_deepnote_index_column": 98
                },
                {
                  "Chip Name": "Quad-core + GPU GT2 Core i7 Skylake K",
                  "Number": " 1750000000",
                  "Year": "2015",
                  "Company": "Intel",
                  "size per chip": "14 nm",
                  "total size": "122 mm²",
                  "_deepnote_index_column": 99
                },
                {
                  "Chip Name": "SPARC M7",
                  "Number": "10000000000",
                  "Year": "2015",
                  "Company": "Oracle",
                  "size per chip": "20 nm",
                  "total size": "nan",
                  "_deepnote_index_column": 100
                },
                {
                  "Chip Name": "22-core Xeon Broadwell-E5",
                  "Number": "7200000000",
                  "Year": "2016",
                  "Company": "Intel",
                  "size per chip": "14 nm",
                  "total size": "456 mm²",
                  "_deepnote_index_column": 101
                }
              ],
              "rows_bottom": null
            },
            "text/plain": "                                 Chip Name       Number  Year   Company  \\\n0                               Intel 4004         2300  1971     Intel   \n1                               Intel 8008         3500  1972     Intel   \n2                               Intel 8080         4500  1974     Intel   \n3                            Motorola 6800         4100  1974  Motorola   \n4                                 RCA 1802         5000  1974       RCA   \n..                                     ...          ...   ...       ...   \n97                                 IBM z13   3990000000  2015       IBM   \n98              IBM z13 Storage Controller   7100000000  2015       IBM   \n99   Quad-core + GPU GT2 Core i7 Skylake K   1750000000  2015     Intel   \n100                               SPARC M7  10000000000  2015    Oracle   \n101              22-core Xeon Broadwell-E5   7200000000  2016     Intel   \n\n    size per chip total size  \n0       10,000 nm     12 mm²  \n1       10,000 nm     14 mm²  \n2        6,000 nm     20 mm²  \n3        6,000 nm     16 mm²  \n4        5,000 nm     27 mm²  \n..            ...        ...  \n97          22 nm    678 mm²  \n98          22 nm    678 mm²  \n99          14 nm    122 mm²  \n100         20 nm        NaN  \n101         14 nm    456 mm²  \n\n[102 rows x 6 columns]",
            "text/html": "<div>\n<style scoped>\n    .dataframe tbody tr th:only-of-type {\n        vertical-align: middle;\n    }\n\n    .dataframe tbody tr th {\n        vertical-align: top;\n    }\n\n    .dataframe thead th {\n        text-align: right;\n    }\n</style>\n<table border=\"1\" class=\"dataframe\">\n  <thead>\n    <tr style=\"text-align: right;\">\n      <th></th>\n      <th>Chip Name</th>\n      <th>Number</th>\n      <th>Year</th>\n      <th>Company</th>\n      <th>size per chip</th>\n      <th>total size</th>\n    </tr>\n  </thead>\n  <tbody>\n    <tr>\n      <th>0</th>\n      <td>Intel 4004</td>\n      <td>2300</td>\n      <td>1971</td>\n      <td>Intel</td>\n      <td>10,000 nm</td>\n      <td>12 mm²</td>\n    </tr>\n    <tr>\n      <th>1</th>\n      <td>Intel 8008</td>\n      <td>3500</td>\n      <td>1972</td>\n      <td>Intel</td>\n      <td>10,000 nm</td>\n      <td>14 mm²</td>\n    </tr>\n    <tr>\n      <th>2</th>\n      <td>Intel 8080</td>\n      <td>4500</td>\n      <td>1974</td>\n      <td>Intel</td>\n      <td>6,000 nm</td>\n      <td>20 mm²</td>\n    </tr>\n    <tr>\n      <th>3</th>\n      <td>Motorola 6800</td>\n      <td>4100</td>\n      <td>1974</td>\n      <td>Motorola</td>\n      <td>6,000 nm</td>\n      <td>16 mm²</td>\n    </tr>\n    <tr>\n      <th>4</th>\n      <td>RCA 1802</td>\n      <td>5000</td>\n      <td>1974</td>\n      <td>RCA</td>\n      <td>5,000 nm</td>\n      <td>27 mm²</td>\n    </tr>\n    <tr>\n      <th>...</th>\n      <td>...</td>\n      <td>...</td>\n      <td>...</td>\n      <td>...</td>\n      <td>...</td>\n      <td>...</td>\n    </tr>\n    <tr>\n      <th>97</th>\n      <td>IBM z13</td>\n      <td>3990000000</td>\n      <td>2015</td>\n      <td>IBM</td>\n      <td>22 nm</td>\n      <td>678 mm²</td>\n    </tr>\n    <tr>\n      <th>98</th>\n      <td>IBM z13 Storage Controller</td>\n      <td>7100000000</td>\n      <td>2015</td>\n      <td>IBM</td>\n      <td>22 nm</td>\n      <td>678 mm²</td>\n    </tr>\n    <tr>\n      <th>99</th>\n      <td>Quad-core + GPU GT2 Core i7 Skylake K</td>\n      <td>1750000000</td>\n      <td>2015</td>\n      <td>Intel</td>\n      <td>14 nm</td>\n      <td>122 mm²</td>\n    </tr>\n    <tr>\n      <th>100</th>\n      <td>SPARC M7</td>\n      <td>10000000000</td>\n      <td>2015</td>\n      <td>Oracle</td>\n      <td>20 nm</td>\n      <td>NaN</td>\n    </tr>\n    <tr>\n      <th>101</th>\n      <td>22-core Xeon Broadwell-E5</td>\n      <td>7200000000</td>\n      <td>2016</td>\n      <td>Intel</td>\n      <td>14 nm</td>\n      <td>456 mm²</td>\n    </tr>\n  </tbody>\n</table>\n<p>102 rows × 6 columns</p>\n</div>"
          },
          "metadata": {}
        }
      ]
    },
    {
      "cell_type": "code",
      "metadata": {
        "tags": [],
        "cell_id": "00004-92ebe0ad-9bd6-4a6f-bfdb-604f07bed7cc",
        "deepnote_to_be_reexecuted": false,
        "source_hash": "473e8711",
        "execution_millis": 0,
        "execution_start": 1617587549043,
        "deepnote_cell_type": "code"
      },
      "source": "xs = np.array(df.Year, dtype=np.float64)\nys = np.array(df.Number, dtype=np.float64)",
      "execution_count": 9,
      "outputs": []
    },
    {
      "cell_type": "code",
      "metadata": {
        "tags": [],
        "cell_id": "00005-0bbc7d20-7d4f-47c8-99b3-12353123550c",
        "deepnote_to_be_reexecuted": false,
        "source_hash": "ca94d814",
        "execution_millis": 137,
        "execution_start": 1617587549044,
        "deepnote_cell_type": "code"
      },
      "source": "plt.scatter(xs, ys)\n",
      "execution_count": 10,
      "outputs": [
        {
          "output_type": "execute_result",
          "execution_count": 10,
          "data": {
            "text/plain": "<matplotlib.collections.PathCollection at 0x7f1cf02ba9d0>"
          },
          "metadata": {}
        },
        {
          "data": {
            "text/plain": "<Figure size 432x288 with 1 Axes>",
            "image/png": "[encoded data removed]"
          },
          "metadata": {
            "needs_background": "light"
          },
          "output_type": "display_data"
        }
      ]
    },
    {
      "cell_type": "code",
      "source": "ys = np.log10(ys)",
      "metadata": {
        "tags": [],
        "cell_id": "00010-454950cd-8edd-4554-b713-54a588ba1c1b",
        "deepnote_to_be_reexecuted": false,
        "source_hash": "89eabd04",
        "execution_millis": 3,
        "execution_start": 1617587549168,
        "deepnote_cell_type": "code"
      },
      "outputs": [],
      "execution_count": 11
    },
    {
      "cell_type": "code",
      "source": "plt.scatter(xs, ys)\nplt.plot()",
      "metadata": {
        "tags": [],
        "cell_id": "00011-0c041e78-6999-4c84-aeb9-e44d33dfc0b4",
        "deepnote_to_be_reexecuted": false,
        "source_hash": "d87f4514",
        "execution_millis": 163,
        "execution_start": 1617587549177,
        "deepnote_cell_type": "code"
      },
      "outputs": [
        {
          "output_type": "execute_result",
          "execution_count": 12,
          "data": {
            "text/plain": "[]"
          },
          "metadata": {}
        },
        {
          "data": {
            "text/plain": "<Figure size 432x288 with 1 Axes>",
            "image/png": "[encoded data removed]"
          },
          "metadata": {
            "needs_background": "light"
          },
          "output_type": "display_data"
        }
      ],
      "execution_count": 12
    },
    {
      "cell_type": "code",
      "metadata": {
        "tags": [],
        "cell_id": "00006-73a3d329-245e-47fc-98b1-0462e408e577",
        "deepnote_to_be_reexecuted": false,
        "source_hash": "3dea6d06",
        "execution_millis": 9,
        "execution_start": 1617587549344,
        "deepnote_cell_type": "code"
      },
      "source": "import math\nfrom statistics import mean\ndef best_fit_slope_and_m(xs,ys):\n    m = (mean(xs) * mean(ys) - mean(xs * ys)) / (mean(xs)*mean(xs) - mean(xs*xs)) \n    b = mean(ys) - m*mean(xs)\n    return (m, b)\n\nm, b = best_fit_slope_and_m(xs, ys)\nprint(m, b)",
      "execution_count": 13,
      "outputs": [
        {
          "name": "stdout",
          "text": "0.15245628682005194 -297.4918436092128\n",
          "output_type": "stream"
        }
      ]
    },
    {
      "cell_type": "code",
      "metadata": {
        "tags": [],
        "cell_id": "00011-3809ae34-0b8d-4a15-938f-63ac2d2cdc0c",
        "deepnote_to_be_reexecuted": false,
        "source_hash": "4aecbabf",
        "execution_millis": 10,
        "execution_start": 1617587549353,
        "deepnote_cell_type": "code"
      },
      "source": "regression_line = [(m*x)+b for x in xs]\nregression_line",
      "execution_count": 14,
      "outputs": [
        {
          "output_type": "execute_result",
          "execution_count": 14,
          "data": {
            "text/plain": "[2.9994977131095766,\n 3.151953999929617,\n 3.456866573569698,\n 3.456866573569698,\n 3.456866573569698,\n 3.456866573569698,\n 3.6093228603897387,\n 3.761779147209836,\n 3.761779147209836,\n 4.066691720849917,\n 4.066691720849917,\n 4.219148007669958,\n 4.219148007669958,\n 4.524060581310096,\n 4.676516868130136,\n 4.676516868130136,\n 4.828973154950177,\n 4.981429441770217,\n 5.133885728590258,\n 5.133885728590258,\n 5.133885728590258,\n 5.286342015410355,\n 5.438798302230396,\n 5.591254589050436,\n 5.591254589050436,\n 5.743710875870477,\n 5.743710875870477,\n 6.048623449510615,\n 6.048623449510615,\n 6.353536023150696,\n 6.505992309970736,\n 6.658448596790777,\n 6.658448596790777,\n 6.810904883610874,\n 6.963361170430915,\n 6.963361170430915,\n 7.115817457250955,\n 7.268273744070996,\n 7.268273744070996,\n 7.268273744070996,\n 7.268273744070996,\n 7.268273744070996,\n 7.420730030891036,\n 7.420730030891036,\n 7.573186317711134,\n 7.725642604531174,\n 7.725642604531174,\n 7.878098891351215,\n 7.878098891351215,\n 7.878098891351215,\n 8.030555178171255,\n 8.030555178171255,\n 8.183011464991296,\n 8.183011464991296,\n 8.335467751811393,\n 8.335467751811393,\n 8.335467751811393,\n 8.335467751811393,\n 8.335467751811393,\n 8.487924038631434,\n 8.487924038631434,\n 8.487924038631434,\n 8.487924038631434,\n 8.487924038631434,\n 8.640380325451474,\n 8.640380325451474,\n 8.640380325451474,\n 8.640380325451474,\n 8.640380325451474,\n 8.792836612271515,\n 8.945292899091555,\n 8.945292899091555,\n 8.945292899091555,\n 8.945292899091555,\n 8.945292899091555,\n 8.945292899091555,\n 9.097749185911653,\n 9.097749185911653,\n 9.097749185911653,\n 9.250205472731693,\n 9.250205472731693,\n 9.250205472731693,\n 9.250205472731693,\n 9.250205472731693,\n 9.250205472731693,\n 9.250205472731693,\n 9.402661759551734,\n 9.402661759551734,\n 9.402661759551734,\n 9.402661759551734,\n 9.555118046371774,\n 9.555118046371774,\n 9.555118046371774,\n 9.555118046371774,\n 9.555118046371774,\n 9.555118046371774,\n 9.707574333191815,\n 9.707574333191815,\n 9.707574333191815,\n 9.707574333191815,\n 9.707574333191815,\n 9.860030620011912]"
          },
          "metadata": {}
        }
      ]
    },
    {
      "cell_type": "code",
      "metadata": {
        "tags": [],
        "cell_id": "00012-edd06477-cc74-458c-9a5a-437fcb6bcb21",
        "deepnote_to_be_reexecuted": false,
        "source_hash": "8076c35a",
        "execution_millis": 1,
        "execution_start": 1617587549358,
        "deepnote_cell_type": "code"
      },
      "source": "style.use('fivethirtyeight')",
      "execution_count": 15,
      "outputs": []
    },
    {
      "cell_type": "code",
      "metadata": {
        "tags": [],
        "cell_id": "00013-3ab9a65b-b669-4220-bdb0-166f58d4df68",
        "deepnote_to_be_reexecuted": false,
        "source_hash": "bf1f4097",
        "execution_millis": 116,
        "execution_start": 1617587549405,
        "deepnote_cell_type": "code"
      },
      "source": "plt.scatter(xs, ys)\nplt.plot(xs, regression_line)\nplt.show()",
      "execution_count": 16,
      "outputs": [
        {
          "data": {
            "text/plain": "<Figure size 432x288 with 1 Axes>",
            "image/png": "[encoded data removed]"
          },
          "metadata": {},
          "output_type": "display_data"
        }
      ]
    },
    {
      "cell_type": "code",
      "metadata": {
        "tags": [],
        "cell_id": "00014-65b631c8-5055-4bec-af74-455bde2474fc",
        "deepnote_to_be_reexecuted": false,
        "source_hash": "ed7d8624",
        "execution_millis": 3,
        "execution_start": 1617587549510,
        "deepnote_cell_type": "code"
      },
      "source": "def squared_error(ys_orig, ys_line):\n    return (ys_line - ys_orig)**2\n\ndef coeff_of_determination(ys_orig, ys_line):\n    y_mean_line = [mean(ys_orig) for y in ys_orig]\n    squared_error_reg = squared_error(ys_orig, ys_line)\n    squared_error_y_mean = squared_error(ys, y_mean_line)\n\n    return (1 - squared_error_reg / squared_error_y_mean)",
      "execution_count": 17,
      "outputs": []
    },
    {
      "cell_type": "code",
      "metadata": {
        "tags": [],
        "cell_id": "00015-2989611e-140b-49e8-a477-0772120c1e1f",
        "deepnote_to_be_reexecuted": false,
        "source_hash": "ff4c6f00",
        "execution_millis": 37,
        "execution_start": 1617587549515,
        "deepnote_cell_type": "code"
      },
      "source": "r_squ = coeff_of_determination(ys, regression_line)",
      "execution_count": 18,
      "outputs": []
    },
    {
      "cell_type": "code",
      "metadata": {
        "tags": [],
        "cell_id": "00016-026f5ea8-66d6-4f27-a54a-bb498547ad73",
        "deepnote_to_be_reexecuted": false,
        "source_hash": "621ca506",
        "execution_millis": 11,
        "execution_start": 1617587549557,
        "deepnote_cell_type": "code"
      },
      "source": "r_squ",
      "execution_count": 19,
      "outputs": [
        {
          "output_type": "execute_result",
          "execution_count": 19,
          "data": {
            "text/plain": "array([ 9.91832786e-01,  9.89495619e-01,  9.97209197e-01,  9.98277827e-01,\n        9.95650423e-01,  9.83433079e-01,  9.99719844e-01,  9.99793340e-01,\n        9.97625824e-01,  9.81477378e-01,  9.98916170e-01,  9.93000577e-01,\n        9.41567630e-01,  9.80393835e-01,  9.99410475e-01,  9.59637737e-01,\n        9.74172000e-01,  9.79784390e-01,  9.38679970e-01,  9.74967936e-01,\n        9.13745348e-01,  9.21747141e-01,  9.65113001e-01,  9.74755902e-01,\n        9.90389897e-01,  9.80162744e-01,  9.36038517e-01,  7.16521424e-01,\n        9.95654833e-01,  9.75389089e-01,  7.86106473e-01,  9.83069930e-01,\n        9.28164810e-01,  9.41949293e-01,  9.98030838e-01,  9.68159980e-01,\n        7.63294811e-01, -1.09447381e+00, -6.27620620e+00,  8.55339297e-02,\n       -5.24105435e+00,  4.51149180e-01,  3.60954308e-01, -3.26654700e+00,\n        9.20206525e-01,  5.97772963e-01,  9.98421087e-01,  9.49768926e-01,\n        8.45770945e-01,  6.50578933e-01,  7.20240918e-01,  9.99245214e-01,\n        9.97264329e-01,  9.68655517e-01,  9.97884688e-01,  9.86219004e-01,\n        7.68606653e-01,  9.93767417e-01,  9.64735998e-01,  9.81199223e-01,\n       -5.65939963e+02,  9.08141002e-01,  9.89753351e-01,  9.28220726e-01,\n        9.74879378e-01, -9.26724115e+00,  9.21066177e-01,  9.77613083e-01,\n        8.88156878e-01,  9.89397839e-01,  9.98873672e-01,  9.93864298e-01,\n        9.56288508e-01,  9.66065585e-01,  9.87215391e-01,  9.94763535e-01,\n        9.75938676e-01,  9.99614032e-01,  9.83089293e-01,  9.62874170e-01,\n        9.89988620e-01,  9.87077958e-01,  9.98639386e-01,  9.93991886e-01,\n        9.96566625e-01,  9.91647621e-01,  9.90416829e-01,  9.38981956e-01,\n        9.95086969e-01,  9.83814482e-01,  9.98771925e-01,  9.93603794e-01,\n        9.95303867e-01,  9.82687869e-01,  9.98629945e-01,  9.46980763e-01,\n        9.49532542e-01,  9.97717015e-01,  9.96646936e-01,  9.38495777e-01,\n        9.87637959e-01,  9.99998823e-01])"
          },
          "metadata": {}
        }
      ]
    },
    {
      "cell_type": "markdown",
      "source": "# using sklearn linear regression",
      "metadata": {
        "tags": [],
        "cell_id": "00017-ce694d56-569d-40f0-a0a1-dee7cf464dfc",
        "deepnote_cell_type": "markdown"
      }
    },
    {
      "cell_type": "code",
      "metadata": {
        "tags": [],
        "cell_id": "00017-9559b076-0c39-4077-b758-3029e6f46d60",
        "deepnote_to_be_reexecuted": false,
        "source_hash": "f66e9873",
        "execution_millis": 2,
        "execution_start": 1617587549562,
        "deepnote_cell_type": "code"
      },
      "source": "x = np.array(df.Year, dtype=np.float64)\ny = np.array(df.Number, dtype=np.float64)\ny = np.log10(y)",
      "execution_count": 20,
      "outputs": []
    },
    {
      "cell_type": "code",
      "metadata": {
        "tags": [],
        "cell_id": "00019-cbd1e2d8-de3a-4459-8d45-2be87a422865",
        "deepnote_to_be_reexecuted": false,
        "source_hash": "5e5af4f2",
        "execution_millis": 5,
        "execution_start": 1617587549567,
        "deepnote_cell_type": "code"
      },
      "source": "# x= x.reshape(1, -1)\n# y= y.reshape(1, -1)\nprint(len(x))",
      "execution_count": 21,
      "outputs": [
        {
          "name": "stdout",
          "text": "102\n",
          "output_type": "stream"
        }
      ]
    },
    {
      "cell_type": "code",
      "metadata": {
        "tags": [],
        "cell_id": "00018-78577f59-738f-4497-8d99-74df01cbe1bb",
        "deepnote_to_be_reexecuted": false,
        "source_hash": "f24b973d",
        "execution_millis": 749,
        "execution_start": 1617587549611,
        "deepnote_cell_type": "code"
      },
      "source": "from sklearn import preprocessing\nfrom sklearn.svm import SVR\nfrom sklearn.model_selection import train_test_split\nfrom sklearn.linear_model import LinearRegression",
      "execution_count": 22,
      "outputs": []
    },
    {
      "cell_type": "code",
      "metadata": {
        "tags": [],
        "cell_id": "00020-17e0139f-b2b1-476f-aa00-a8c46ad961e1",
        "deepnote_to_be_reexecuted": false,
        "source_hash": "77c7cc7b",
        "execution_millis": 3,
        "execution_start": 1617587550363,
        "deepnote_cell_type": "code"
      },
      "source": "x = preprocessing.scale(x)\n",
      "execution_count": 23,
      "outputs": []
    },
    {
      "cell_type": "code",
      "metadata": {
        "tags": [],
        "cell_id": "00021-9372055b-6886-486f-acdb-0c50b376dc9c",
        "deepnote_to_be_reexecuted": false,
        "source_hash": "c2dea22f",
        "execution_millis": 3,
        "execution_start": 1617587550367,
        "deepnote_cell_type": "code"
      },
      "source": "X_train, X_test, Y_train, Y_test = train_test_split(x, y, test_size = 0.2)",
      "execution_count": 24,
      "outputs": []
    },
    {
      "cell_type": "code",
      "metadata": {
        "tags": [],
        "cell_id": "00022-2e7a49e4-9524-4ae4-b07c-7379c3dd35e7",
        "deepnote_to_be_reexecuted": false,
        "source_hash": "35cf912b",
        "execution_millis": 70,
        "execution_start": 1617587550373,
        "deepnote_cell_type": "code"
      },
      "source": "clf = SVR(kernel='poly')\nclf.fit(X_train.reshape(-1, 1), Y_train.reshape(-1,1))\nAccuracy = clf.score(X_test.reshape(-1, 1), Y_test.reshape(-1, 1))\nAccuracy",
      "execution_count": 25,
      "outputs": [
        {
          "name": "stderr",
          "text": "/shared-libs/python3.7/py/lib/python3.7/site-packages/sklearn/utils/validation.py:63: DataConversionWarning: A column-vector y was passed when a 1d array was expected. Please change the shape of y to (n_samples, ), for example using ravel().\n  return f(*args, **kwargs)\n",
          "output_type": "stream"
        },
        {
          "output_type": "execute_result",
          "execution_count": 25,
          "data": {
            "text/plain": "0.6255804528417044"
          },
          "metadata": {}
        }
      ]
    },
    {
      "cell_type": "code",
      "metadata": {
        "tags": [],
        "cell_id": "00023-c044bdf1-c726-4788-8ab4-e6356cf15b58",
        "deepnote_to_be_reexecuted": false,
        "source_hash": "b623e53d",
        "execution_millis": 2,
        "execution_start": 1617587550382,
        "deepnote_cell_type": "code"
      },
      "source": "",
      "execution_count": 25,
      "outputs": []
    },
    {
      "cell_type": "markdown",
      "source": "<a style='text-decoration:none;line-height:16px;display:flex;color:#5B5B62;padding:10px;justify-content:end;' href='https://deepnote.com?utm_source=created-in-deepnote-cell&projectId=38a5f705-02d4-481a-a9f2-a7b671e2e93f' target=\"_blank\">\n<img alt='Created in deepnote.com' style='display:inline;max-height:16px;margin:0px;margin-right:7.5px;' src='data:image/svg+xml;base64,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' > </img>\nCreated in <span style='font-weight:600;margin-left:4px;'>Deepnote</span></a>",
      "metadata": {
        "tags": [],
        "created_in_deepnote_cell": true,
        "deepnote_cell_type": "markdown"
      }
    }
  ],
  "nbformat": 4,
  "nbformat_minor": 2,
  "metadata": {
    "orig_nbformat": 2,
    "deepnote_notebook_id": "aa60ea20-8218-48f3-a8ff-4cec7adf6f3b",
    "deepnote": {},
    "deepnote_execution_queue": []
  }
}